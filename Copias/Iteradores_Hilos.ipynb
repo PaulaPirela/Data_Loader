{
  "cells": [
    {
      "cell_type": "code",
      "execution_count": 1,
      "metadata": {
        "id": "n_H6m-vdy4LI"
      },
      "outputs": [],
      "source": [
        "import pandas as pd\n",
        "import pathlib\n",
        "import requests\n",
        "import time\n",
        "import dataclasses\n",
        "from typing import Iterator\n",
        "import matplotlib.pyplot as plt\n",
        "import numpy as np\n",
        "from numpy.typing import NDArray\n",
        "from PIL import Image\n",
        "import io\n",
        "import concurrent.futures"
      ]
    },
    {
      "cell_type": "code",
      "execution_count": 2,
      "metadata": {
        "id": "Na-mkisA1C8J"
      },
      "outputs": [],
      "source": [
        "@dataclasses.dataclass\n",
        "class Row:\n",
        "    image: NDArray[np.uint8]\n",
        "    name: str"
      ]
    },
    {
      "cell_type": "code",
      "execution_count": 3,
      "metadata": {},
      "outputs": [],
      "source": [
        "def download(url: str) -> bytes:\n",
        "    try:\n",
        "        response = requests.get(url, timeout=10)\n",
        "        response.raise_for_status()\n",
        "        return response.content\n",
        "    except requests.RequestException as e:\n",
        "        print(f\"  -> Error downloading {url}: {e}\")\n",
        "        return b''"
      ]
    },
    {
      "cell_type": "markdown",
      "metadata": {
        "id": "MSxfVhRb1FiI"
      },
      "source": [
        "Esta funcion pasa de bytes a imagen para imprimir."
      ]
    },
    {
      "cell_type": "code",
      "execution_count": 4,
      "metadata": {
        "id": "wMtSZWOA1IBt"
      },
      "outputs": [],
      "source": [
        "def bytes_to_image(image_bytes: bytes) -> NDArray[np.uint8]:\n",
        "    \"\"\"\n",
        "    Convierte un objeto de bytes a un array de NumPy (imagen RGB).\n",
        "\n",
        "    Si los bytes están vacíos o no se pueden procesar como una imagen, devuelve None.\n",
        "    \"\"\"\n",
        "\n",
        "    # Intenta abrir los bytes, convertirlos a RGB y devolverlos como un array\n",
        "    image_stream = io.BytesIO(image_bytes)\n",
        "    image = Image.open(image_stream).convert(\"RGB\")\n",
        "    return np.array(image)"
      ]
    },
    {
      "cell_type": "markdown",
      "metadata": {
        "id": "hABjZRbN1Kv-"
      },
      "source": [
        "Generador CON HILOS"
      ]
    },
    {
      "cell_type": "markdown",
      "metadata": {},
      "source": [
        "La descarga de imágenes es una tarea limitada por Entrada/Salida (E/S), no por la capacidad del procesador (CPU). Esto significa que el programa pasa la mayor parte del tiempo esperando a que la red responda y envíe los datos, en lugar de estar haciendo cálculos intensivos. Se eligen los hilos porque la descarga de archivos es fundamentalmente un problema de espera. Los hilos son la forma más eficiente de gestionar y aprovechar múltiples \"esperas\" al mismo tiempo."
      ]
    },
    {
      "cell_type": "code",
      "execution_count": 23,
      "metadata": {
        "id": "OhW34NRS1MFN"
      },
      "outputs": [],
      "source": [
        "def create_concurrent_row_iterator(folder_path: str, max_workers: int = 10) -> Iterator[Row]:\n",
        "    \"\"\"\n",
        "    Usa un ThreadPoolExecutor para descargar múltiples imágenes simultáneamente\n",
        "    y genera los objetos 'Row' a medida que se completan las descargas.\n",
        "    \"\"\"\n",
        "    path = pathlib.Path(folder_path)\n",
        "    csv_files = list(path.glob('*.csv'))\n",
        "    if not csv_files:\n",
        "        return\n",
        "\n",
        "    # PASO 1: Recopila todas las tareas (nombre y url) primero\n",
        "    tasks = []\n",
        "    for file in csv_files:\n",
        "        try:\n",
        "            df = pd.read_csv(file, usecols=['Pokemon', 'Sprite'])\n",
        "            for _, data_row in df.iterrows():\n",
        "                tasks.append((data_row['Pokemon'], data_row['Sprite']))\n",
        "        except ValueError:\n",
        "            continue\n",
        "\n",
        "    # PASO 2: Crea el equipo de hilos y asigna las tareas\n",
        "    with concurrent.futures.ThreadPoolExecutor(max_workers=max_workers) as executor:\n",
        "        # 'future' es una promesa de que la descarga se completará en el futuro.\n",
        "        # Creamos un diccionario para recordar a qué Pokémon pertenece cada 'future'.\n",
        "        future_to_pokemon = {\n",
        "            executor.submit(download, url): name for name, url in tasks\n",
        "        }\n",
        "\n",
        "        # PASO 3: Procesa los resultados a medida que llegan\n",
        "        for future in concurrent.futures.as_completed(future_to_pokemon):\n",
        "            name = future_to_pokemon[future]\n",
        "            try:\n",
        "                image_bytes = future.result() # Obtiene el resultado (los bytes) de la descarga\n",
        "                image_array = bytes_to_image(image_bytes)\n",
        "                yield Row(image=image_array, name=name)\n",
        "            except Exception as exc:\n",
        "                print(f'{name} generó una excepción: {exc}')"
      ]
    },
    {
      "cell_type": "markdown",
      "metadata": {
        "id": "BYQbLSGU1RfX"
      },
      "source": [
        "Produce, la funcion del profesor. que imprime la imagen"
      ]
    },
    {
      "cell_type": "code",
      "execution_count": 24,
      "metadata": {
        "id": "6QmC_eEy1TyW"
      },
      "outputs": [],
      "source": [
        "def produce(iterator: Iterator[Row]):\n",
        "    print(\"\\nRequesting next item from iterator...\")\n",
        "    t0 = time.perf_counter()\n",
        "    try:\n",
        "        row = next(iterator)\n",
        "        print(f\"Operation took {time.perf_counter() - t0:.2f} seconds.\")\n",
        "        plt.figure()\n",
        "        plt.imshow(row.image)\n",
        "        plt.title(row.name)\n",
        "        plt.axis('off')\n",
        "        plt.show()\n",
        "        return row\n",
        "    except StopIteration:\n",
        "        print(\"\\nAll items have been processed.\")\n",
        "        return None"
      ]
    },
    {
      "cell_type": "code",
      "execution_count": 25,
      "metadata": {
        "colab": {
          "base_uri": "https://localhost:8080/",
          "height": 483
        },
        "id": "xAPePNgoy4I4",
        "outputId": "f1188d91-2a4c-45a5-8292-f50f311ff605"
      },
      "outputs": [
        {
          "name": "stdout",
          "output_type": "stream",
          "text": [
            "\n",
            "Requesting next item from iterator...\n",
            "Operation took 0.34 seconds.\n"
          ]
        },
        {
          "data": {
            "image/png": "[encoded data removed]",
            "text/plain": [
              "<Figure size 640x480 with 1 Axes>"
            ]
          },
          "metadata": {},
          "output_type": "display_data"
        }
      ],
      "source": [
        "if __name__ == \"__main__\":\n",
        "    ruta_carpeta = \"C:/Users/paula/Downloads/computer-vision-data-loader-main/computer-vision-data-loader-main/data\"\n",
        "    # Crea el iterador CONCURRENTE\n",
        "    row_iterator = create_concurrent_row_iterator(ruta_carpeta, max_workers=10)\n",
        "    produce(row_iterator)"
      ]
    }
  ],
  "metadata": {
    "colab": {
      "provenance": []
    },
    "kernelspec": {
      "display_name": "Python 3",
      "name": "python3"
    },
    "language_info": {
      "codemirror_mode": {
        "name": "ipython",
        "version": 3
      },
      "file_extension": ".py",
      "mimetype": "text/x-python",
      "name": "python",
      "nbconvert_exporter": "python",
      "pygments_lexer": "ipython3",
      "version": "3.12.5"
    }
  },
  "nbformat": 4,
  "nbformat_minor": 0
}
